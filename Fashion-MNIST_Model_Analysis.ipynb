{
 "cells": [
  {
   "cell_type": "code",
   "execution_count": 1,
   "metadata": {
    "_uuid": "af46c86ee9e8f997cc8dbc869f3e923061f1a53c"
   },
   "outputs": [],
   "source": [
    "from tensorflow.keras.datasets import fashion_mnist\n",
    "from tensorflow.keras.utils import to_categorical\n",
    "from tensorflow.keras.models import Sequential\n",
    "from tensorflow.keras.layers import Conv2D, MaxPool2D, Dense, Flatten, Dropout\n",
    "from tensorflow.keras.preprocessing.image import ImageDataGenerator\n",
    "from sklearn.metrics import confusion_matrix, accuracy_score, log_loss\n",
    "from sklearn.model_selection import train_test_split\n",
    "import pandas as pd\n",
    "import numpy as np"
   ]
  },
  {
   "cell_type": "code",
   "execution_count": 2,
   "metadata": {
    "_uuid": "dd8b1d628fce6a6b00cd89423e8a7339b038acad"
   },
   "outputs": [],
   "source": [
    "(X, Y), (X_test, Y_test) = fashion_mnist.load_data()\n",
    "X_train, X_val, Y_train, Y_val = train_test_split(X, Y, test_size=0.2, random_state=42)"
   ]
  },
  {
   "cell_type": "markdown",
   "metadata": {},
   "source": [
    "### Normalization and preprocessing\n",
    "Feature values range between 0-255, therefore normalizing is as trivial as ddividing by 255\n",
    "\n",
    "    Also images are consistent in the way they are captured by the camera, lighting, rotation etc. Therefore no preprocessing or data generation is necessary. Simply reshaping the dataset into a shape that a convolutional layer can process is enough."
   ]
  },
  {
   "cell_type": "code",
   "execution_count": 3,
   "metadata": {
    "_uuid": "fe53835b7e9f510aa330224bcaeca55334a6247e"
   },
   "outputs": [],
   "source": [
    "# normalize features\n",
    "x_train = X_train.astype('float')\n",
    "x_val = X_val.astype('float')\n",
    "x_test = X_test.astype('float')\n",
    "x_train  /= 255\n",
    "x_val /= 255\n",
    "x_test  /= 255\n",
    "# reshape features into width * height * color channel, color_channel is 1 since all images in dataset are grayscaled\n",
    "x_train = x_train.reshape(x_train.shape[0], 28, 28, 1)\n",
    "x_val = x_val.reshape(x_val.shape[0], 28, 28, 1)\n",
    "x_test = x_test.reshape(x_test.shape[0], 28, 28, 1)"
   ]
  },
  {
   "cell_type": "code",
   "execution_count": 4,
   "metadata": {
    "_uuid": "ed2f02f6874229eb501ca4963117fc73c623f522"
   },
   "outputs": [],
   "source": [
    "y_train = to_categorical(Y_train, 10)\n",
    "y_val = to_categorical(Y_val , 10)\n",
    "y_test = to_categorical(Y_test, 10)"
   ]
  },
  {
   "cell_type": "markdown",
   "metadata": {
    "_uuid": "30dc3d8d12e3085d2efa8c747ea9c28d185d2d40"
   },
   "source": [
    "### Model\n",
    "My strategy to increase model performance was to learn from training data as much as possible, without overfitting.\n",
    "Deep networks, due to the large quantity of neurons, usually overfits on the training data if no precaution is taken\n",
    "\n",
    "Therefore, I investigated the amount of overfitting using a loss vs epochs and accuracy vs epochs plots for both training and validation sets on top of each other. My aim was to control the amount of training data fit so that training and validation loss (and accuracy) converge (follow the same trend and have almost the same values over epochs).\n",
    "\n",
    "If the validation loss surpasses training loss and keeps diverging from training loss, that means the model is overfitting. In such cases I reduce overfitting by either increasing Dropout rates, or decreasing amount of neurons, either in a convolutional layer or a dense layer.\n",
    "\n",
    "If the validation loss and training loss follow a very similar trend over epochs, but validation loss is lower than training, that means that the model can learn more from the training data, without loss of generality. \n",
    "\n",
    "Other than the overfitting issue, I have both read about the benefits of chaining multiple convolutional layers before a pooling layer, and tried myself. Due to the simplicity of the problem, having more than 3 convolutional layers caused overfitting, and therefore impacted performance negatively. However chaining the last 2 convolutional layers, without a pooling layer in between caused a slight gain in performance."
   ]
  },
  {
   "cell_type": "code",
   "execution_count": 5,
   "metadata": {
    "_uuid": "92d317d53eda881f4b606162234091ccae27d162"
   },
   "outputs": [],
   "source": [
    "model = Sequential()\n",
    "model.add(Conv2D(filters=64, kernel_size=(3, 3), activation='relu', input_shape=x_train.shape[1:]))\n",
    "model.add(MaxPool2D(pool_size=(2, 2)))\n",
    "model.add(Dropout(rate=0.25))\n",
    "model.add(Conv2D(filters=64, kernel_size=(3, 3), activation='relu'))\n",
    "model.add(Dropout(rate=0.5))\n",
    "model.add(Conv2D(filters=128, kernel_size=(3, 3), activation='relu'))\n",
    "model.add(MaxPool2D(pool_size=(2, 2)))\n",
    "model.add(Dropout(rate=0.5))\n",
    "model.add(Flatten())\n",
    "model.add(Dense(128, activation='relu'))\n",
    "model.add(Dropout(rate=0.4))\n",
    "model.add(Dense(10, activation='softmax'))"
   ]
  },
  {
   "cell_type": "code",
   "execution_count": 6,
   "metadata": {
    "_uuid": "8f3443ffe7f5cd2f4366541cfa3a12d732f832e3"
   },
   "outputs": [
    {
     "name": "stdout",
     "output_type": "stream",
     "text": [
      "_________________________________________________________________\n",
      "Layer (type)                 Output Shape              Param #   \n",
      "=================================================================\n",
      "conv2d (Conv2D)              (None, 26, 26, 64)        640       \n",
      "_________________________________________________________________\n",
      "max_pooling2d (MaxPooling2D) (None, 13, 13, 64)        0         \n",
      "_________________________________________________________________\n",
      "dropout (Dropout)            (None, 13, 13, 64)        0         \n",
      "_________________________________________________________________\n",
      "conv2d_1 (Conv2D)            (None, 11, 11, 64)        36928     \n",
      "_________________________________________________________________\n",
      "dropout_1 (Dropout)          (None, 11, 11, 64)        0         \n",
      "_________________________________________________________________\n",
      "conv2d_2 (Conv2D)            (None, 9, 9, 128)         73856     \n",
      "_________________________________________________________________\n",
      "max_pooling2d_1 (MaxPooling2 (None, 4, 4, 128)         0         \n",
      "_________________________________________________________________\n",
      "dropout_2 (Dropout)          (None, 4, 4, 128)         0         \n",
      "_________________________________________________________________\n",
      "flatten (Flatten)            (None, 2048)              0         \n",
      "_________________________________________________________________\n",
      "dense (Dense)                (None, 128)               262272    \n",
      "_________________________________________________________________\n",
      "dropout_3 (Dropout)          (None, 128)               0         \n",
      "_________________________________________________________________\n",
      "dense_1 (Dense)              (None, 10)                1290      \n",
      "=================================================================\n",
      "Total params: 374,986\n",
      "Trainable params: 374,986\n",
      "Non-trainable params: 0\n",
      "_________________________________________________________________\n"
     ]
    }
   ],
   "source": [
    "model.summary()"
   ]
  },
  {
   "cell_type": "code",
   "execution_count": 7,
   "metadata": {
    "_uuid": "d23b381da816c1d2809b2b9d74c226a7863f82ff"
   },
   "outputs": [],
   "source": [
    "model.compile(\n",
    "    loss='categorical_crossentropy',\n",
    "    optimizer='adam',\n",
    "    metrics=['accuracy']\n",
    ")"
   ]
  },
  {
   "cell_type": "code",
   "execution_count": 8,
   "metadata": {
    "_uuid": "9733d4cc24388a4b0d95165eee2612bf3381d85d"
   },
   "outputs": [],
   "source": [
    "# a simple list to store fit calls to the model, in case for training over multiple fit calls\n",
    "history = []"
   ]
  },
  {
   "cell_type": "code",
   "execution_count": 10,
   "metadata": {
    "_uuid": "f867a9dca95bb7011755411b2878e5978f99d047"
   },
   "outputs": [
    {
     "name": "stdout",
     "output_type": "stream",
     "text": [
      "Train on 48000 samples, validate on 12000 samples\n",
      "Epoch 1/100\n",
      "48000/48000 [==============================] - 77s 2ms/step - loss: 0.8062 - acc: 0.7010 - val_loss: 0.4919 - val_acc: 0.8132\n",
      "Epoch 2/100\n",
      "48000/48000 [==============================] - 74s 2ms/step - loss: 0.5197 - acc: 0.8073 - val_loss: 0.3965 - val_acc: 0.8576\n",
      "Epoch 3/100\n",
      "48000/48000 [==============================] - 75s 2ms/step - loss: 0.4413 - acc: 0.8394 - val_loss: 0.3460 - val_acc: 0.8784\n",
      "Epoch 4/100\n",
      "48000/48000 [==============================] - 75s 2ms/step - loss: 0.4009 - acc: 0.8554 - val_loss: 0.3147 - val_acc: 0.8898\n",
      "Epoch 5/100\n",
      "48000/48000 [==============================] - 76s 2ms/step - loss: 0.3683 - acc: 0.8663 - val_loss: 0.2939 - val_acc: 0.8951\n",
      "Epoch 6/100\n",
      "48000/48000 [==============================] - 74s 2ms/step - loss: 0.3516 - acc: 0.8719 - val_loss: 0.2782 - val_acc: 0.8982\n",
      "Epoch 7/100\n",
      "48000/48000 [==============================] - 74s 2ms/step - loss: 0.3375 - acc: 0.8775 - val_loss: 0.2908 - val_acc: 0.8930\n",
      "Epoch 8/100\n",
      "48000/48000 [==============================] - 74s 2ms/step - loss: 0.3271 - acc: 0.8804 - val_loss: 0.2677 - val_acc: 0.9017\n",
      "Epoch 9/100\n",
      "48000/48000 [==============================] - 73s 2ms/step - loss: 0.3148 - acc: 0.8860 - val_loss: 0.2689 - val_acc: 0.9006\n",
      "Epoch 10/100\n",
      "48000/48000 [==============================] - 73s 2ms/step - loss: 0.3103 - acc: 0.8850 - val_loss: 0.2601 - val_acc: 0.9062\n",
      "Epoch 11/100\n",
      "48000/48000 [==============================] - 73s 2ms/step - loss: 0.3020 - acc: 0.8894 - val_loss: 0.2643 - val_acc: 0.9015\n",
      "Epoch 12/100\n",
      "48000/48000 [==============================] - 74s 2ms/step - loss: 0.2948 - acc: 0.8915 - val_loss: 0.2596 - val_acc: 0.9040\n",
      "Epoch 13/100\n",
      "48000/48000 [==============================] - 73s 2ms/step - loss: 0.2944 - acc: 0.8930 - val_loss: 0.2480 - val_acc: 0.9093\n",
      "Epoch 14/100\n",
      "48000/48000 [==============================] - 73s 2ms/step - loss: 0.2837 - acc: 0.8950 - val_loss: 0.2497 - val_acc: 0.9101\n",
      "Epoch 15/100\n",
      "48000/48000 [==============================] - 74s 2ms/step - loss: 0.2827 - acc: 0.8956 - val_loss: 0.2428 - val_acc: 0.9139\n",
      "Epoch 16/100\n",
      "48000/48000 [==============================] - 75s 2ms/step - loss: 0.2792 - acc: 0.8973 - val_loss: 0.2418 - val_acc: 0.9116\n",
      "Epoch 17/100\n",
      "48000/48000 [==============================] - 75s 2ms/step - loss: 0.2777 - acc: 0.8972 - val_loss: 0.2370 - val_acc: 0.9127\n",
      "Epoch 18/100\n",
      "48000/48000 [==============================] - 74s 2ms/step - loss: 0.2750 - acc: 0.8985 - val_loss: 0.2367 - val_acc: 0.9148\n",
      "Epoch 19/100\n",
      "48000/48000 [==============================] - 74s 2ms/step - loss: 0.2666 - acc: 0.9013 - val_loss: 0.2399 - val_acc: 0.9128\n",
      "Epoch 20/100\n",
      "48000/48000 [==============================] - 74s 2ms/step - loss: 0.2653 - acc: 0.9020 - val_loss: 0.2382 - val_acc: 0.9141\n",
      "Epoch 21/100\n",
      "48000/48000 [==============================] - 74s 2ms/step - loss: 0.2622 - acc: 0.9043 - val_loss: 0.2347 - val_acc: 0.9129\n",
      "Epoch 22/100\n",
      "48000/48000 [==============================] - 73s 2ms/step - loss: 0.2636 - acc: 0.9025 - val_loss: 0.2404 - val_acc: 0.9133\n",
      "Epoch 23/100\n",
      "48000/48000 [==============================] - 73s 2ms/step - loss: 0.2574 - acc: 0.9039 - val_loss: 0.2313 - val_acc: 0.9147\n",
      "Epoch 24/100\n",
      "48000/48000 [==============================] - 74s 2ms/step - loss: 0.2577 - acc: 0.9055 - val_loss: 0.2307 - val_acc: 0.9142\n",
      "Epoch 25/100\n",
      "48000/48000 [==============================] - 74s 2ms/step - loss: 0.2567 - acc: 0.9035 - val_loss: 0.2276 - val_acc: 0.9160\n",
      "Epoch 26/100\n",
      "48000/48000 [==============================] - 73s 2ms/step - loss: 0.2536 - acc: 0.9057 - val_loss: 0.2247 - val_acc: 0.9187\n",
      "Epoch 27/100\n",
      "48000/48000 [==============================] - 74s 2ms/step - loss: 0.2512 - acc: 0.9057 - val_loss: 0.2280 - val_acc: 0.9186\n",
      "Epoch 28/100\n",
      "48000/48000 [==============================] - 74s 2ms/step - loss: 0.2524 - acc: 0.9064 - val_loss: 0.2231 - val_acc: 0.9171\n",
      "Epoch 29/100\n",
      "48000/48000 [==============================] - 74s 2ms/step - loss: 0.2474 - acc: 0.9065 - val_loss: 0.2207 - val_acc: 0.9176\n",
      "Epoch 30/100\n",
      "48000/48000 [==============================] - 73s 2ms/step - loss: 0.2445 - acc: 0.9111 - val_loss: 0.2204 - val_acc: 0.9187\n",
      "Epoch 31/100\n",
      "48000/48000 [==============================] - 74s 2ms/step - loss: 0.2445 - acc: 0.9103 - val_loss: 0.2229 - val_acc: 0.9184\n",
      "Epoch 32/100\n",
      "48000/48000 [==============================] - 74s 2ms/step - loss: 0.2448 - acc: 0.9087 - val_loss: 0.2223 - val_acc: 0.9193\n",
      "Epoch 33/100\n",
      "48000/48000 [==============================] - 74s 2ms/step - loss: 0.2428 - acc: 0.9080 - val_loss: 0.2213 - val_acc: 0.9178\n",
      "Epoch 34/100\n",
      "48000/48000 [==============================] - 74s 2ms/step - loss: 0.2393 - acc: 0.9116 - val_loss: 0.2218 - val_acc: 0.9185\n",
      "Epoch 35/100\n",
      "48000/48000 [==============================] - 73s 2ms/step - loss: 0.2387 - acc: 0.9100 - val_loss: 0.2204 - val_acc: 0.9183\n",
      "Epoch 36/100\n",
      "48000/48000 [==============================] - 74s 2ms/step - loss: 0.2385 - acc: 0.9101 - val_loss: 0.2235 - val_acc: 0.9173\n",
      "Epoch 37/100\n",
      "48000/48000 [==============================] - 74s 2ms/step - loss: 0.2381 - acc: 0.9120 - val_loss: 0.2216 - val_acc: 0.9194\n",
      "Epoch 38/100\n",
      "48000/48000 [==============================] - 74s 2ms/step - loss: 0.2357 - acc: 0.9120 - val_loss: 0.2163 - val_acc: 0.9227\n",
      "Epoch 39/100\n",
      "48000/48000 [==============================] - 74s 2ms/step - loss: 0.2346 - acc: 0.9116 - val_loss: 0.2154 - val_acc: 0.9201\n",
      "Epoch 40/100\n",
      "48000/48000 [==============================] - 75s 2ms/step - loss: 0.2348 - acc: 0.9121 - val_loss: 0.2157 - val_acc: 0.9201\n",
      "Epoch 41/100\n",
      "48000/48000 [==============================] - 75s 2ms/step - loss: 0.2370 - acc: 0.9111 - val_loss: 0.2219 - val_acc: 0.9193\n",
      "Epoch 42/100\n",
      "48000/48000 [==============================] - 75s 2ms/step - loss: 0.2284 - acc: 0.9146 - val_loss: 0.2155 - val_acc: 0.9216\n",
      "Epoch 43/100\n",
      "48000/48000 [==============================] - 75s 2ms/step - loss: 0.2301 - acc: 0.9142 - val_loss: 0.2128 - val_acc: 0.9217\n",
      "Epoch 44/100\n",
      "48000/48000 [==============================] - 74s 2ms/step - loss: 0.2295 - acc: 0.9128 - val_loss: 0.2203 - val_acc: 0.9179\n",
      "Epoch 45/100\n",
      "48000/48000 [==============================] - 75s 2ms/step - loss: 0.2320 - acc: 0.9118 - val_loss: 0.2141 - val_acc: 0.9195\n",
      "Epoch 46/100\n",
      "48000/48000 [==============================] - 75s 2ms/step - loss: 0.2301 - acc: 0.9133 - val_loss: 0.2127 - val_acc: 0.9228\n",
      "Epoch 47/100\n",
      "48000/48000 [==============================] - 74s 2ms/step - loss: 0.2315 - acc: 0.9139 - val_loss: 0.2109 - val_acc: 0.9212\n",
      "Epoch 48/100\n",
      "48000/48000 [==============================] - 75s 2ms/step - loss: 0.2261 - acc: 0.9152 - val_loss: 0.2154 - val_acc: 0.9226\n",
      "Epoch 49/100\n",
      "48000/48000 [==============================] - 75s 2ms/step - loss: 0.2248 - acc: 0.9166 - val_loss: 0.2130 - val_acc: 0.9219\n",
      "Epoch 50/100\n",
      "48000/48000 [==============================] - 76s 2ms/step - loss: 0.2229 - acc: 0.9169 - val_loss: 0.2122 - val_acc: 0.9208\n",
      "Epoch 51/100\n",
      "48000/48000 [==============================] - 74s 2ms/step - loss: 0.2223 - acc: 0.9166 - val_loss: 0.2110 - val_acc: 0.9223\n",
      "Epoch 52/100\n",
      "48000/48000 [==============================] - 74s 2ms/step - loss: 0.2215 - acc: 0.9149 - val_loss: 0.2116 - val_acc: 0.9220\n",
      "Epoch 53/100\n",
      "48000/48000 [==============================] - 75s 2ms/step - loss: 0.2225 - acc: 0.9164 - val_loss: 0.2108 - val_acc: 0.9217\n",
      "Epoch 54/100\n",
      "48000/48000 [==============================] - 74s 2ms/step - loss: 0.2225 - acc: 0.9160 - val_loss: 0.2132 - val_acc: 0.9232\n",
      "Epoch 55/100\n",
      "48000/48000 [==============================] - 73s 2ms/step - loss: 0.2254 - acc: 0.9141 - val_loss: 0.2118 - val_acc: 0.9209\n",
      "Epoch 56/100\n",
      "48000/48000 [==============================] - 74s 2ms/step - loss: 0.2195 - acc: 0.9169 - val_loss: 0.2125 - val_acc: 0.9209\n",
      "Epoch 57/100\n",
      "48000/48000 [==============================] - 73s 2ms/step - loss: 0.2172 - acc: 0.9184 - val_loss: 0.2078 - val_acc: 0.9262\n",
      "Epoch 58/100\n",
      "48000/48000 [==============================] - 73s 2ms/step - loss: 0.2226 - acc: 0.9179 - val_loss: 0.2067 - val_acc: 0.9239\n",
      "Epoch 59/100\n",
      "48000/48000 [==============================] - 72s 2ms/step - loss: 0.2186 - acc: 0.9166 - val_loss: 0.2068 - val_acc: 0.9227\n",
      "Epoch 60/100\n",
      "48000/48000 [==============================] - 73s 2ms/step - loss: 0.2220 - acc: 0.9165 - val_loss: 0.2174 - val_acc: 0.9193\n",
      "Epoch 61/100\n",
      "48000/48000 [==============================] - 73s 2ms/step - loss: 0.2186 - acc: 0.9178 - val_loss: 0.2060 - val_acc: 0.9246\n",
      "Epoch 62/100\n",
      "48000/48000 [==============================] - 73s 2ms/step - loss: 0.2141 - acc: 0.9191 - val_loss: 0.2163 - val_acc: 0.9214\n",
      "Epoch 63/100\n",
      "48000/48000 [==============================] - 74s 2ms/step - loss: 0.2174 - acc: 0.9193 - val_loss: 0.2119 - val_acc: 0.9235\n",
      "Epoch 64/100\n",
      "48000/48000 [==============================] - 73s 2ms/step - loss: 0.2167 - acc: 0.9190 - val_loss: 0.2057 - val_acc: 0.9257\n",
      "Epoch 65/100\n",
      "48000/48000 [==============================] - 74s 2ms/step - loss: 0.2171 - acc: 0.9199 - val_loss: 0.2213 - val_acc: 0.9175\n",
      "Epoch 66/100\n",
      "48000/48000 [==============================] - 73s 2ms/step - loss: 0.2202 - acc: 0.9176 - val_loss: 0.2155 - val_acc: 0.9212\n",
      "Epoch 67/100\n",
      "48000/48000 [==============================] - 74s 2ms/step - loss: 0.2137 - acc: 0.9186 - val_loss: 0.2108 - val_acc: 0.9224\n",
      "Epoch 68/100\n",
      "48000/48000 [==============================] - 73s 2ms/step - loss: 0.2125 - acc: 0.9198 - val_loss: 0.2049 - val_acc: 0.9247\n",
      "Epoch 69/100\n",
      "48000/48000 [==============================] - 74s 2ms/step - loss: 0.2126 - acc: 0.9201 - val_loss: 0.2065 - val_acc: 0.9228\n",
      "Epoch 70/100\n",
      "48000/48000 [==============================] - 73s 2ms/step - loss: 0.2142 - acc: 0.9195 - val_loss: 0.2057 - val_acc: 0.9237\n",
      "Epoch 71/100\n",
      "48000/48000 [==============================] - 74s 2ms/step - loss: 0.2112 - acc: 0.9191 - val_loss: 0.2099 - val_acc: 0.9228\n",
      "Epoch 72/100\n",
      "48000/48000 [==============================] - 73s 2ms/step - loss: 0.2116 - acc: 0.9193 - val_loss: 0.2109 - val_acc: 0.9240\n",
      "Epoch 73/100\n",
      "48000/48000 [==============================] - 73s 2ms/step - loss: 0.2125 - acc: 0.9206 - val_loss: 0.2080 - val_acc: 0.9242\n",
      "Epoch 74/100\n",
      "48000/48000 [==============================] - 73s 2ms/step - loss: 0.2115 - acc: 0.9201 - val_loss: 0.2088 - val_acc: 0.9247\n",
      "Epoch 75/100\n",
      "48000/48000 [==============================] - 74s 2ms/step - loss: 0.2131 - acc: 0.9194 - val_loss: 0.2069 - val_acc: 0.9243\n",
      "Epoch 76/100\n",
      "48000/48000 [==============================] - 74s 2ms/step - loss: 0.2074 - acc: 0.9216 - val_loss: 0.2068 - val_acc: 0.9263\n",
      "Epoch 77/100\n",
      "48000/48000 [==============================] - 73s 2ms/step - loss: 0.2119 - acc: 0.9206 - val_loss: 0.2135 - val_acc: 0.9224\n",
      "Epoch 78/100\n",
      "48000/48000 [==============================] - 74s 2ms/step - loss: 0.2090 - acc: 0.9221 - val_loss: 0.2049 - val_acc: 0.9247\n",
      "Epoch 79/100\n",
      "48000/48000 [==============================] - 73s 2ms/step - loss: 0.2085 - acc: 0.9208 - val_loss: 0.2182 - val_acc: 0.9213\n",
      "Epoch 80/100\n",
      "48000/48000 [==============================] - 74s 2ms/step - loss: 0.2094 - acc: 0.9221 - val_loss: 0.2065 - val_acc: 0.9237\n",
      "Epoch 81/100\n",
      "48000/48000 [==============================] - 74s 2ms/step - loss: 0.2092 - acc: 0.9233 - val_loss: 0.2077 - val_acc: 0.9246\n",
      "Epoch 82/100\n",
      "48000/48000 [==============================] - 73s 2ms/step - loss: 0.2062 - acc: 0.9212 - val_loss: 0.2086 - val_acc: 0.9222\n",
      "Epoch 83/100\n",
      "48000/48000 [==============================] - 73s 2ms/step - loss: 0.2096 - acc: 0.9211 - val_loss: 0.2116 - val_acc: 0.9220\n",
      "Epoch 84/100\n",
      "48000/48000 [==============================] - 74s 2ms/step - loss: 0.2053 - acc: 0.9220 - val_loss: 0.2118 - val_acc: 0.9216\n",
      "Epoch 85/100\n",
      "48000/48000 [==============================] - 74s 2ms/step - loss: 0.2070 - acc: 0.9216 - val_loss: 0.2094 - val_acc: 0.9239\n",
      "Epoch 86/100\n",
      "48000/48000 [==============================] - 74s 2ms/step - loss: 0.2078 - acc: 0.9218 - val_loss: 0.2093 - val_acc: 0.9230\n",
      "Epoch 87/100\n",
      "48000/48000 [==============================] - 73s 2ms/step - loss: 0.2040 - acc: 0.9219 - val_loss: 0.2053 - val_acc: 0.9250\n",
      "Epoch 88/100\n",
      "48000/48000 [==============================] - 74s 2ms/step - loss: 0.2086 - acc: 0.9213 - val_loss: 0.2104 - val_acc: 0.9229\n",
      "Epoch 89/100\n",
      "48000/48000 [==============================] - 74s 2ms/step - loss: 0.2048 - acc: 0.9209 - val_loss: 0.2132 - val_acc: 0.9218\n",
      "Epoch 90/100\n",
      "48000/48000 [==============================] - 74s 2ms/step - loss: 0.2117 - acc: 0.9199 - val_loss: 0.2103 - val_acc: 0.9238\n",
      "Epoch 91/100\n",
      "48000/48000 [==============================] - 73s 2ms/step - loss: 0.2050 - acc: 0.9219 - val_loss: 0.2126 - val_acc: 0.9230\n",
      "Epoch 92/100\n",
      "48000/48000 [==============================] - 74s 2ms/step - loss: 0.2049 - acc: 0.9223 - val_loss: 0.2126 - val_acc: 0.9216\n",
      "Epoch 93/100\n",
      "48000/48000 [==============================] - 73s 2ms/step - loss: 0.2068 - acc: 0.9217 - val_loss: 0.2067 - val_acc: 0.9231\n",
      "Epoch 94/100\n",
      "48000/48000 [==============================] - 74s 2ms/step - loss: 0.2072 - acc: 0.9213 - val_loss: 0.2067 - val_acc: 0.9241\n",
      "Epoch 95/100\n",
      "48000/48000 [==============================] - 73s 2ms/step - loss: 0.2031 - acc: 0.9233 - val_loss: 0.2057 - val_acc: 0.9241\n",
      "Epoch 96/100\n",
      "48000/48000 [==============================] - 74s 2ms/step - loss: 0.2037 - acc: 0.9238 - val_loss: 0.2075 - val_acc: 0.9248\n",
      "Epoch 97/100\n",
      "48000/48000 [==============================] - 74s 2ms/step - loss: 0.2023 - acc: 0.9225 - val_loss: 0.2125 - val_acc: 0.9237\n",
      "Epoch 98/100\n",
      "48000/48000 [==============================] - 74s 2ms/step - loss: 0.1994 - acc: 0.9243 - val_loss: 0.2108 - val_acc: 0.9234\n",
      "Epoch 99/100\n",
      "48000/48000 [==============================] - 74s 2ms/step - loss: 0.2054 - acc: 0.9225 - val_loss: 0.2060 - val_acc: 0.9250\n",
      "Epoch 100/100\n",
      "48000/48000 [==============================] - 74s 2ms/step - loss: 0.2005 - acc: 0.9241 - val_loss: 0.2131 - val_acc: 0.9247\n"
     ]
    },
    {
     "ename": "ValueError",
     "evalue": "Shape of passed values is (4, 100), indices imply (4, 10)",
     "output_type": "error",
     "traceback": [
      "\u001b[0;31m---------------------------------------------------------------------------\u001b[0m",
      "\u001b[0;31mValueError\u001b[0m                                Traceback (most recent call last)",
      "\u001b[0;32m/opt/conda/lib/python3.6/site-packages/pandas/core/internals.py\u001b[0m in \u001b[0;36mcreate_block_manager_from_arrays\u001b[0;34m(arrays, names, axes)\u001b[0m\n\u001b[1;32m   4872\u001b[0m         \u001b[0mblocks\u001b[0m \u001b[0;34m=\u001b[0m \u001b[0mform_blocks\u001b[0m\u001b[0;34m(\u001b[0m\u001b[0marrays\u001b[0m\u001b[0;34m,\u001b[0m \u001b[0mnames\u001b[0m\u001b[0;34m,\u001b[0m \u001b[0maxes\u001b[0m\u001b[0;34m)\u001b[0m\u001b[0;34m\u001b[0m\u001b[0m\n\u001b[0;32m-> 4873\u001b[0;31m         \u001b[0mmgr\u001b[0m \u001b[0;34m=\u001b[0m \u001b[0mBlockManager\u001b[0m\u001b[0;34m(\u001b[0m\u001b[0mblocks\u001b[0m\u001b[0;34m,\u001b[0m \u001b[0maxes\u001b[0m\u001b[0;34m)\u001b[0m\u001b[0;34m\u001b[0m\u001b[0m\n\u001b[0m\u001b[1;32m   4874\u001b[0m         \u001b[0mmgr\u001b[0m\u001b[0;34m.\u001b[0m\u001b[0m_consolidate_inplace\u001b[0m\u001b[0;34m(\u001b[0m\u001b[0;34m)\u001b[0m\u001b[0;34m\u001b[0m\u001b[0m\n",
      "\u001b[0;32m/opt/conda/lib/python3.6/site-packages/pandas/core/internals.py\u001b[0m in \u001b[0;36m__init__\u001b[0;34m(self, blocks, axes, do_integrity_check)\u001b[0m\n\u001b[1;32m   3281\u001b[0m         \u001b[0;32mif\u001b[0m \u001b[0mdo_integrity_check\u001b[0m\u001b[0;34m:\u001b[0m\u001b[0;34m\u001b[0m\u001b[0m\n\u001b[0;32m-> 3282\u001b[0;31m             \u001b[0mself\u001b[0m\u001b[0;34m.\u001b[0m\u001b[0m_verify_integrity\u001b[0m\u001b[0;34m(\u001b[0m\u001b[0;34m)\u001b[0m\u001b[0;34m\u001b[0m\u001b[0m\n\u001b[0m\u001b[1;32m   3283\u001b[0m \u001b[0;34m\u001b[0m\u001b[0m\n",
      "\u001b[0;32m/opt/conda/lib/python3.6/site-packages/pandas/core/internals.py\u001b[0m in \u001b[0;36m_verify_integrity\u001b[0;34m(self)\u001b[0m\n\u001b[1;32m   3492\u001b[0m             \u001b[0;32mif\u001b[0m \u001b[0mblock\u001b[0m\u001b[0;34m.\u001b[0m\u001b[0m_verify_integrity\u001b[0m \u001b[0;32mand\u001b[0m \u001b[0mblock\u001b[0m\u001b[0;34m.\u001b[0m\u001b[0mshape\u001b[0m\u001b[0;34m[\u001b[0m\u001b[0;36m1\u001b[0m\u001b[0;34m:\u001b[0m\u001b[0;34m]\u001b[0m \u001b[0;34m!=\u001b[0m \u001b[0mmgr_shape\u001b[0m\u001b[0;34m[\u001b[0m\u001b[0;36m1\u001b[0m\u001b[0;34m:\u001b[0m\u001b[0;34m]\u001b[0m\u001b[0;34m:\u001b[0m\u001b[0;34m\u001b[0m\u001b[0m\n\u001b[0;32m-> 3493\u001b[0;31m                 \u001b[0mconstruction_error\u001b[0m\u001b[0;34m(\u001b[0m\u001b[0mtot_items\u001b[0m\u001b[0;34m,\u001b[0m \u001b[0mblock\u001b[0m\u001b[0;34m.\u001b[0m\u001b[0mshape\u001b[0m\u001b[0;34m[\u001b[0m\u001b[0;36m1\u001b[0m\u001b[0;34m:\u001b[0m\u001b[0;34m]\u001b[0m\u001b[0;34m,\u001b[0m \u001b[0mself\u001b[0m\u001b[0;34m.\u001b[0m\u001b[0maxes\u001b[0m\u001b[0;34m)\u001b[0m\u001b[0;34m\u001b[0m\u001b[0m\n\u001b[0m\u001b[1;32m   3494\u001b[0m         \u001b[0;32mif\u001b[0m \u001b[0mlen\u001b[0m\u001b[0;34m(\u001b[0m\u001b[0mself\u001b[0m\u001b[0;34m.\u001b[0m\u001b[0mitems\u001b[0m\u001b[0;34m)\u001b[0m \u001b[0;34m!=\u001b[0m \u001b[0mtot_items\u001b[0m\u001b[0;34m:\u001b[0m\u001b[0;34m\u001b[0m\u001b[0m\n",
      "\u001b[0;32m/opt/conda/lib/python3.6/site-packages/pandas/core/internals.py\u001b[0m in \u001b[0;36mconstruction_error\u001b[0;34m(tot_items, block_shape, axes, e)\u001b[0m\n\u001b[1;32m   4842\u001b[0m     raise ValueError(\"Shape of passed values is {0}, indices imply {1}\".format(\n\u001b[0;32m-> 4843\u001b[0;31m         passed, implied))\n\u001b[0m\u001b[1;32m   4844\u001b[0m \u001b[0;34m\u001b[0m\u001b[0m\n",
      "\u001b[0;31mValueError\u001b[0m: Shape of passed values is (4, 100), indices imply (4, 10)",
      "\nDuring handling of the above exception, another exception occurred:\n",
      "\u001b[0;31mValueError\u001b[0m                                Traceback (most recent call last)",
      "\u001b[0;32m<ipython-input-10-44be6df19616>\u001b[0m in \u001b[0;36m<module>\u001b[0;34m()\u001b[0m\n\u001b[1;32m      6\u001b[0m     \u001b[0mepochs\u001b[0m\u001b[0;34m=\u001b[0m\u001b[0;36m100\u001b[0m\u001b[0;34m\u001b[0m\u001b[0m\n\u001b[1;32m      7\u001b[0m )\n\u001b[0;32m----> 8\u001b[0;31m \u001b[0mhistory\u001b[0m\u001b[0;34m.\u001b[0m\u001b[0mappend\u001b[0m\u001b[0;34m(\u001b[0m\u001b[0mpd\u001b[0m\u001b[0;34m.\u001b[0m\u001b[0mDataFrame\u001b[0m\u001b[0;34m(\u001b[0m\u001b[0mdata\u001b[0m\u001b[0;34m=\u001b[0m\u001b[0mtraining_stats\u001b[0m\u001b[0;34m.\u001b[0m\u001b[0mhistory\u001b[0m\u001b[0;34m,\u001b[0m \u001b[0mindex\u001b[0m\u001b[0;34m=\u001b[0m\u001b[0mrange\u001b[0m\u001b[0;34m(\u001b[0m\u001b[0;36m1\u001b[0m\u001b[0;34m,\u001b[0m \u001b[0;36m11\u001b[0m\u001b[0;34m)\u001b[0m\u001b[0;34m)\u001b[0m\u001b[0;34m)\u001b[0m\u001b[0;34m\u001b[0m\u001b[0m\n\u001b[0m",
      "\u001b[0;32m/opt/conda/lib/python3.6/site-packages/pandas/core/frame.py\u001b[0m in \u001b[0;36m__init__\u001b[0;34m(self, data, index, columns, dtype, copy)\u001b[0m\n\u001b[1;32m    346\u001b[0m                                  dtype=dtype, copy=copy)\n\u001b[1;32m    347\u001b[0m         \u001b[0;32melif\u001b[0m \u001b[0misinstance\u001b[0m\u001b[0;34m(\u001b[0m\u001b[0mdata\u001b[0m\u001b[0;34m,\u001b[0m \u001b[0mdict\u001b[0m\u001b[0;34m)\u001b[0m\u001b[0;34m:\u001b[0m\u001b[0;34m\u001b[0m\u001b[0m\n\u001b[0;32m--> 348\u001b[0;31m             \u001b[0mmgr\u001b[0m \u001b[0;34m=\u001b[0m \u001b[0mself\u001b[0m\u001b[0;34m.\u001b[0m\u001b[0m_init_dict\u001b[0m\u001b[0;34m(\u001b[0m\u001b[0mdata\u001b[0m\u001b[0;34m,\u001b[0m \u001b[0mindex\u001b[0m\u001b[0;34m,\u001b[0m \u001b[0mcolumns\u001b[0m\u001b[0;34m,\u001b[0m \u001b[0mdtype\u001b[0m\u001b[0;34m=\u001b[0m\u001b[0mdtype\u001b[0m\u001b[0;34m)\u001b[0m\u001b[0;34m\u001b[0m\u001b[0m\n\u001b[0m\u001b[1;32m    349\u001b[0m         \u001b[0;32melif\u001b[0m \u001b[0misinstance\u001b[0m\u001b[0;34m(\u001b[0m\u001b[0mdata\u001b[0m\u001b[0;34m,\u001b[0m \u001b[0mma\u001b[0m\u001b[0;34m.\u001b[0m\u001b[0mMaskedArray\u001b[0m\u001b[0;34m)\u001b[0m\u001b[0;34m:\u001b[0m\u001b[0;34m\u001b[0m\u001b[0m\n\u001b[1;32m    350\u001b[0m             \u001b[0;32mimport\u001b[0m \u001b[0mnumpy\u001b[0m\u001b[0;34m.\u001b[0m\u001b[0mma\u001b[0m\u001b[0;34m.\u001b[0m\u001b[0mmrecords\u001b[0m \u001b[0;32mas\u001b[0m \u001b[0mmrecords\u001b[0m\u001b[0;34m\u001b[0m\u001b[0m\n",
      "\u001b[0;32m/opt/conda/lib/python3.6/site-packages/pandas/core/frame.py\u001b[0m in \u001b[0;36m_init_dict\u001b[0;34m(self, data, index, columns, dtype)\u001b[0m\n\u001b[1;32m    457\u001b[0m             \u001b[0marrays\u001b[0m \u001b[0;34m=\u001b[0m \u001b[0;34m[\u001b[0m\u001b[0mdata\u001b[0m\u001b[0;34m[\u001b[0m\u001b[0mk\u001b[0m\u001b[0;34m]\u001b[0m \u001b[0;32mfor\u001b[0m \u001b[0mk\u001b[0m \u001b[0;32min\u001b[0m \u001b[0mkeys\u001b[0m\u001b[0;34m]\u001b[0m\u001b[0;34m\u001b[0m\u001b[0m\n\u001b[1;32m    458\u001b[0m \u001b[0;34m\u001b[0m\u001b[0m\n\u001b[0;32m--> 459\u001b[0;31m         \u001b[0;32mreturn\u001b[0m \u001b[0m_arrays_to_mgr\u001b[0m\u001b[0;34m(\u001b[0m\u001b[0marrays\u001b[0m\u001b[0;34m,\u001b[0m \u001b[0mdata_names\u001b[0m\u001b[0;34m,\u001b[0m \u001b[0mindex\u001b[0m\u001b[0;34m,\u001b[0m \u001b[0mcolumns\u001b[0m\u001b[0;34m,\u001b[0m \u001b[0mdtype\u001b[0m\u001b[0;34m=\u001b[0m\u001b[0mdtype\u001b[0m\u001b[0;34m)\u001b[0m\u001b[0;34m\u001b[0m\u001b[0m\n\u001b[0m\u001b[1;32m    460\u001b[0m \u001b[0;34m\u001b[0m\u001b[0m\n\u001b[1;32m    461\u001b[0m     \u001b[0;32mdef\u001b[0m \u001b[0m_init_ndarray\u001b[0m\u001b[0;34m(\u001b[0m\u001b[0mself\u001b[0m\u001b[0;34m,\u001b[0m \u001b[0mvalues\u001b[0m\u001b[0;34m,\u001b[0m \u001b[0mindex\u001b[0m\u001b[0;34m,\u001b[0m \u001b[0mcolumns\u001b[0m\u001b[0;34m,\u001b[0m \u001b[0mdtype\u001b[0m\u001b[0;34m=\u001b[0m\u001b[0;32mNone\u001b[0m\u001b[0;34m,\u001b[0m \u001b[0mcopy\u001b[0m\u001b[0;34m=\u001b[0m\u001b[0;32mFalse\u001b[0m\u001b[0;34m)\u001b[0m\u001b[0;34m:\u001b[0m\u001b[0;34m\u001b[0m\u001b[0m\n",
      "\u001b[0;32m/opt/conda/lib/python3.6/site-packages/pandas/core/frame.py\u001b[0m in \u001b[0;36m_arrays_to_mgr\u001b[0;34m(arrays, arr_names, index, columns, dtype)\u001b[0m\n\u001b[1;32m   7362\u001b[0m     \u001b[0maxes\u001b[0m \u001b[0;34m=\u001b[0m \u001b[0;34m[\u001b[0m\u001b[0m_ensure_index\u001b[0m\u001b[0;34m(\u001b[0m\u001b[0mcolumns\u001b[0m\u001b[0;34m)\u001b[0m\u001b[0;34m,\u001b[0m \u001b[0m_ensure_index\u001b[0m\u001b[0;34m(\u001b[0m\u001b[0mindex\u001b[0m\u001b[0;34m)\u001b[0m\u001b[0;34m]\u001b[0m\u001b[0;34m\u001b[0m\u001b[0m\n\u001b[1;32m   7363\u001b[0m \u001b[0;34m\u001b[0m\u001b[0m\n\u001b[0;32m-> 7364\u001b[0;31m     \u001b[0;32mreturn\u001b[0m \u001b[0mcreate_block_manager_from_arrays\u001b[0m\u001b[0;34m(\u001b[0m\u001b[0marrays\u001b[0m\u001b[0;34m,\u001b[0m \u001b[0marr_names\u001b[0m\u001b[0;34m,\u001b[0m \u001b[0maxes\u001b[0m\u001b[0;34m)\u001b[0m\u001b[0;34m\u001b[0m\u001b[0m\n\u001b[0m\u001b[1;32m   7365\u001b[0m \u001b[0;34m\u001b[0m\u001b[0m\n\u001b[1;32m   7366\u001b[0m \u001b[0;34m\u001b[0m\u001b[0m\n",
      "\u001b[0;32m/opt/conda/lib/python3.6/site-packages/pandas/core/internals.py\u001b[0m in \u001b[0;36mcreate_block_manager_from_arrays\u001b[0;34m(arrays, names, axes)\u001b[0m\n\u001b[1;32m   4875\u001b[0m         \u001b[0;32mreturn\u001b[0m \u001b[0mmgr\u001b[0m\u001b[0;34m\u001b[0m\u001b[0m\n\u001b[1;32m   4876\u001b[0m     \u001b[0;32mexcept\u001b[0m \u001b[0mValueError\u001b[0m \u001b[0;32mas\u001b[0m \u001b[0me\u001b[0m\u001b[0;34m:\u001b[0m\u001b[0;34m\u001b[0m\u001b[0m\n\u001b[0;32m-> 4877\u001b[0;31m         \u001b[0mconstruction_error\u001b[0m\u001b[0;34m(\u001b[0m\u001b[0mlen\u001b[0m\u001b[0;34m(\u001b[0m\u001b[0marrays\u001b[0m\u001b[0;34m)\u001b[0m\u001b[0;34m,\u001b[0m \u001b[0marrays\u001b[0m\u001b[0;34m[\u001b[0m\u001b[0;36m0\u001b[0m\u001b[0;34m]\u001b[0m\u001b[0;34m.\u001b[0m\u001b[0mshape\u001b[0m\u001b[0;34m,\u001b[0m \u001b[0maxes\u001b[0m\u001b[0;34m,\u001b[0m \u001b[0me\u001b[0m\u001b[0;34m)\u001b[0m\u001b[0;34m\u001b[0m\u001b[0m\n\u001b[0m\u001b[1;32m   4878\u001b[0m \u001b[0;34m\u001b[0m\u001b[0m\n\u001b[1;32m   4879\u001b[0m \u001b[0;34m\u001b[0m\u001b[0m\n",
      "\u001b[0;32m/opt/conda/lib/python3.6/site-packages/pandas/core/internals.py\u001b[0m in \u001b[0;36mconstruction_error\u001b[0;34m(tot_items, block_shape, axes, e)\u001b[0m\n\u001b[1;32m   4841\u001b[0m         \u001b[0;32mraise\u001b[0m \u001b[0mValueError\u001b[0m\u001b[0;34m(\u001b[0m\u001b[0;34m\"Empty data passed with indices specified.\"\u001b[0m\u001b[0;34m)\u001b[0m\u001b[0;34m\u001b[0m\u001b[0m\n\u001b[1;32m   4842\u001b[0m     raise ValueError(\"Shape of passed values is {0}, indices imply {1}\".format(\n\u001b[0;32m-> 4843\u001b[0;31m         passed, implied))\n\u001b[0m\u001b[1;32m   4844\u001b[0m \u001b[0;34m\u001b[0m\u001b[0m\n\u001b[1;32m   4845\u001b[0m \u001b[0;34m\u001b[0m\u001b[0m\n",
      "\u001b[0;31mValueError\u001b[0m: Shape of passed values is (4, 100), indices imply (4, 10)"
     ]
    }
   ],
   "source": [
    "epoch_no = 100\n",
    "training_stats = model.fit(\n",
    "    x=x_train,\n",
    "    y=y_train,\n",
    "    validation_data=(x_val, y_val),\n",
    "    batch_size=128,\n",
    "    epochs=epoch_no\n",
    ")\n",
    "history.append(pd.DataFrame(data=training_stats.history, index=range(1, epoch_no + 1)))"
   ]
  },
  {
   "cell_type": "markdown",
   "metadata": {
    "_uuid": "cad984c9bd5061b52164443bb82e2007b3f11864"
   },
   "source": [
    "### Visualization\n",
    "A loss and accuracy plot over epochs is necessary to investigate overfitting and underfitting, which in turn are crucial to optimize performance. \n",
    "\n",
    "Other than that, a simple confusion matrix reveals that images that belong to the shirt class are easily mispredicted to be some other class. "
   ]
  },
  {
   "cell_type": "code",
   "execution_count": 11,
   "metadata": {
    "_uuid": "74d3171c125f5a1f4ebb5770273a6ce0b4b0c2af"
   },
   "outputs": [
    {
     "data": {
      "image/png": "[encoded data removed]",
      "text/plain": [
       "<Figure size 432x288 with 1 Axes>"
      ]
     },
     "metadata": {},
     "output_type": "display_data"
    }
   ],
   "source": [
    "import matplotlib.pyplot as plt\n",
    "\n",
    "plt.plot(training_stats.history['acc'], label='training accuracy')\n",
    "plt.plot(training_stats.history['val_acc'], label='validation accuracy')\n",
    "plt.title('Accuracy')\n",
    "plt.xlabel('epochs')\n",
    "plt.ylabel('accuracy')\n",
    "plt.legend()\n",
    "plt.show()"
   ]
  },
  {
   "cell_type": "code",
   "execution_count": 12,
   "metadata": {
    "_uuid": "540d816ff2db4ec4add30e8f6fd772273c1d07a8"
   },
   "outputs": [
    {
     "data": {
      "image/png": "[encoded data removed]",
      "text/plain": [
       "<Figure size 432x288 with 1 Axes>"
      ]
     },
     "metadata": {},
     "output_type": "display_data"
    }
   ],
   "source": [
    "plt.plot(training_stats.history['loss'], label='training loss')\n",
    "plt.plot(training_stats.history['val_loss'], label='validation loss')\n",
    "plt.title('Loss')\n",
    "plt.xlabel('epochs')\n",
    "plt.ylabel('loss')\n",
    "plt.legend()\n",
    "plt.show()"
   ]
  },
  {
   "cell_type": "code",
   "execution_count": 13,
   "metadata": {
    "_uuid": "4bc32a82f7fc754fc9eaa0f2ad4ddeb3b9d831eb"
   },
   "outputs": [
    {
     "name": "stdout",
     "output_type": "stream",
     "text": [
      "Loss: 0.189994\n",
      "Accuracy 0.930100\n"
     ]
    }
   ],
   "source": [
    "test_probs = model.predict(x_test)\n",
    "loss = log_loss(y_test, test_probs)\n",
    "test_preds = test_probs.argmax(axis=1)\n",
    "y_test_classes = y_test.argmax(axis=1)\n",
    "accuracy = accuracy_score(y_test_classes, test_preds)\n",
    "print('Loss: %f' % loss)\n",
    "print('Accuracy %f' % accuracy)"
   ]
  },
  {
   "cell_type": "code",
   "execution_count": 14,
   "metadata": {
    "_uuid": "d34f90b03f4c28e17f06fdd613a78d5bc3eb528b"
   },
   "outputs": [],
   "source": [
    "label_names = [\"T-shirt/top\",  \"Trouser\",  \"Pullover\",  \"Dress\",  \"Coat\",\n",
    "               \"Sandal\",  \"Shirt\",  \"Sneaker\",  \"Bag\",  \"Ankle Boot\"]"
   ]
  },
  {
   "cell_type": "code",
   "execution_count": 15,
   "metadata": {
    "_uuid": "262c0a95c23694347c3899ce6a5aa5cc090bf902"
   },
   "outputs": [
    {
     "data": {
      "text/plain": [
       "array([0, 1, 2, ..., 8, 8, 1])"
      ]
     },
     "execution_count": 15,
     "metadata": {},
     "output_type": "execute_result"
    }
   ],
   "source": [
    "y_test_classes"
   ]
  },
  {
   "cell_type": "code",
   "execution_count": 16,
   "metadata": {
    "_uuid": "d895618b98c88c1b619c8c0374dcf3fc864c37fa"
   },
   "outputs": [
    {
     "data": {
      "text/html": [
       "<div>\n",
       "<style scoped>\n",
       "    .dataframe tbody tr th:only-of-type {\n",
       "        vertical-align: middle;\n",
       "    }\n",
       "\n",
       "    .dataframe tbody tr th {\n",
       "        vertical-align: top;\n",
       "    }\n",
       "\n",
       "    .dataframe thead tr th {\n",
       "        text-align: left;\n",
       "    }\n",
       "</style>\n",
       "<table border=\"1\" class=\"dataframe\">\n",
       "  <thead>\n",
       "    <tr>\n",
       "      <th></th>\n",
       "      <th></th>\n",
       "      <th colspan=\"13\" halign=\"left\">Predictions</th>\n",
       "    </tr>\n",
       "    <tr>\n",
       "      <th></th>\n",
       "      <th></th>\n",
       "      <th>T-shirt/top</th>\n",
       "      <th>Trouser</th>\n",
       "      <th>Pullover</th>\n",
       "      <th>Dress</th>\n",
       "      <th>Coat</th>\n",
       "      <th>Sandal</th>\n",
       "      <th>Shirt</th>\n",
       "      <th>Sneaker</th>\n",
       "      <th>Bag</th>\n",
       "      <th>Ankle Boot</th>\n",
       "      <th>True Predicted</th>\n",
       "      <th>False Predicted</th>\n",
       "      <th>Total</th>\n",
       "    </tr>\n",
       "  </thead>\n",
       "  <tbody>\n",
       "    <tr>\n",
       "      <th rowspan=\"11\" valign=\"top\">Actual</th>\n",
       "      <th>T-shirt/top</th>\n",
       "      <td>909</td>\n",
       "      <td>1</td>\n",
       "      <td>17</td>\n",
       "      <td>9</td>\n",
       "      <td>1</td>\n",
       "      <td>0</td>\n",
       "      <td>60</td>\n",
       "      <td>0</td>\n",
       "      <td>3</td>\n",
       "      <td>0</td>\n",
       "      <td>909</td>\n",
       "      <td>91</td>\n",
       "      <td>1000</td>\n",
       "    </tr>\n",
       "    <tr>\n",
       "      <th>Trouser</th>\n",
       "      <td>0</td>\n",
       "      <td>994</td>\n",
       "      <td>0</td>\n",
       "      <td>4</td>\n",
       "      <td>1</td>\n",
       "      <td>0</td>\n",
       "      <td>1</td>\n",
       "      <td>0</td>\n",
       "      <td>0</td>\n",
       "      <td>0</td>\n",
       "      <td>994</td>\n",
       "      <td>6</td>\n",
       "      <td>1000</td>\n",
       "    </tr>\n",
       "    <tr>\n",
       "      <th>Pullover</th>\n",
       "      <td>11</td>\n",
       "      <td>1</td>\n",
       "      <td>914</td>\n",
       "      <td>12</td>\n",
       "      <td>27</td>\n",
       "      <td>0</td>\n",
       "      <td>33</td>\n",
       "      <td>0</td>\n",
       "      <td>2</td>\n",
       "      <td>0</td>\n",
       "      <td>914</td>\n",
       "      <td>86</td>\n",
       "      <td>1000</td>\n",
       "    </tr>\n",
       "    <tr>\n",
       "      <th>Dress</th>\n",
       "      <td>13</td>\n",
       "      <td>2</td>\n",
       "      <td>7</td>\n",
       "      <td>932</td>\n",
       "      <td>30</td>\n",
       "      <td>0</td>\n",
       "      <td>16</td>\n",
       "      <td>0</td>\n",
       "      <td>0</td>\n",
       "      <td>0</td>\n",
       "      <td>932</td>\n",
       "      <td>68</td>\n",
       "      <td>1000</td>\n",
       "    </tr>\n",
       "    <tr>\n",
       "      <th>Coat</th>\n",
       "      <td>0</td>\n",
       "      <td>0</td>\n",
       "      <td>39</td>\n",
       "      <td>15</td>\n",
       "      <td>904</td>\n",
       "      <td>0</td>\n",
       "      <td>41</td>\n",
       "      <td>0</td>\n",
       "      <td>0</td>\n",
       "      <td>1</td>\n",
       "      <td>904</td>\n",
       "      <td>96</td>\n",
       "      <td>1000</td>\n",
       "    </tr>\n",
       "    <tr>\n",
       "      <th>Sandal</th>\n",
       "      <td>0</td>\n",
       "      <td>0</td>\n",
       "      <td>0</td>\n",
       "      <td>0</td>\n",
       "      <td>0</td>\n",
       "      <td>976</td>\n",
       "      <td>0</td>\n",
       "      <td>17</td>\n",
       "      <td>1</td>\n",
       "      <td>6</td>\n",
       "      <td>976</td>\n",
       "      <td>24</td>\n",
       "      <td>1000</td>\n",
       "    </tr>\n",
       "    <tr>\n",
       "      <th>Shirt</th>\n",
       "      <td>106</td>\n",
       "      <td>3</td>\n",
       "      <td>68</td>\n",
       "      <td>20</td>\n",
       "      <td>60</td>\n",
       "      <td>0</td>\n",
       "      <td>739</td>\n",
       "      <td>0</td>\n",
       "      <td>4</td>\n",
       "      <td>0</td>\n",
       "      <td>739</td>\n",
       "      <td>261</td>\n",
       "      <td>1000</td>\n",
       "    </tr>\n",
       "    <tr>\n",
       "      <th>Sneaker</th>\n",
       "      <td>0</td>\n",
       "      <td>0</td>\n",
       "      <td>0</td>\n",
       "      <td>0</td>\n",
       "      <td>0</td>\n",
       "      <td>2</td>\n",
       "      <td>0</td>\n",
       "      <td>975</td>\n",
       "      <td>0</td>\n",
       "      <td>23</td>\n",
       "      <td>975</td>\n",
       "      <td>25</td>\n",
       "      <td>1000</td>\n",
       "    </tr>\n",
       "    <tr>\n",
       "      <th>Bag</th>\n",
       "      <td>4</td>\n",
       "      <td>0</td>\n",
       "      <td>2</td>\n",
       "      <td>1</td>\n",
       "      <td>2</td>\n",
       "      <td>0</td>\n",
       "      <td>3</td>\n",
       "      <td>0</td>\n",
       "      <td>987</td>\n",
       "      <td>1</td>\n",
       "      <td>987</td>\n",
       "      <td>13</td>\n",
       "      <td>1000</td>\n",
       "    </tr>\n",
       "    <tr>\n",
       "      <th>Ankle Boot</th>\n",
       "      <td>0</td>\n",
       "      <td>0</td>\n",
       "      <td>0</td>\n",
       "      <td>0</td>\n",
       "      <td>0</td>\n",
       "      <td>1</td>\n",
       "      <td>0</td>\n",
       "      <td>28</td>\n",
       "      <td>0</td>\n",
       "      <td>971</td>\n",
       "      <td>971</td>\n",
       "      <td>29</td>\n",
       "      <td>1000</td>\n",
       "    </tr>\n",
       "    <tr>\n",
       "      <th>Total</th>\n",
       "      <td>1043</td>\n",
       "      <td>1001</td>\n",
       "      <td>1047</td>\n",
       "      <td>993</td>\n",
       "      <td>1025</td>\n",
       "      <td>979</td>\n",
       "      <td>893</td>\n",
       "      <td>1020</td>\n",
       "      <td>997</td>\n",
       "      <td>1002</td>\n",
       "      <td>9301</td>\n",
       "      <td>699</td>\n",
       "      <td>10000</td>\n",
       "    </tr>\n",
       "  </tbody>\n",
       "</table>\n",
       "</div>"
      ],
      "text/plain": [
       "                   Predictions          ...                         \n",
       "                   T-shirt/top Trouser  ...   False Predicted  Total\n",
       "Actual T-shirt/top         909       1  ...                91   1000\n",
       "       Trouser               0     994  ...                 6   1000\n",
       "       Pullover             11       1  ...                86   1000\n",
       "       Dress                13       2  ...                68   1000\n",
       "       Coat                  0       0  ...                96   1000\n",
       "       Sandal                0       0  ...                24   1000\n",
       "       Shirt               106       3  ...               261   1000\n",
       "       Sneaker               0       0  ...                25   1000\n",
       "       Bag                   4       0  ...                13   1000\n",
       "       Ankle Boot            0       0  ...                29   1000\n",
       "       Total              1043    1001  ...               699  10000\n",
       "\n",
       "[11 rows x 13 columns]"
      ]
     },
     "execution_count": 16,
     "metadata": {},
     "output_type": "execute_result"
    }
   ],
   "source": [
    "matrix = confusion_matrix(y_test_classes, test_preds)\n",
    "conf = pd.DataFrame(data=matrix, index=label_names, columns=label_names)\n",
    "total = conf.sum(axis=1)\n",
    "conf['True Predicted'] = np.diag(matrix)\n",
    "conf['False Predicted'] = total.sub(conf['True Predicted'])\n",
    "conf['Total'] = total\n",
    "conf = conf.append(conf.sum(axis=0).rename('Total'))\n",
    "pd.concat({\"Actual\": pd.concat({\"Predictions\": conf}, axis=1)}, axis=0)"
   ]
  },
  {
   "cell_type": "markdown",
   "metadata": {
    "_uuid": "c464e36bd7fba587688bcc3debbe68cde361a40d"
   },
   "source": [
    "### jupyter-vim-plugin\n",
    "Uncomment and run the cell below to enable vim bindings for this session.\n",
    "Rather than loading it by default and permanently, I chose to enable manually for each session.\n",
    "Cause I like vim, but maybe you don't"
   ]
  },
  {
   "cell_type": "code",
   "execution_count": 2,
   "metadata": {
    "_uuid": "64e98fbd923086ffc042e676bf15196569f563b8"
   },
   "outputs": [],
   "source": [
    "# %%javascript\n",
    "# Jupyter.utils.load_extensions('vim_binding/vim_binding');"
   ]
  }
 ],
 "metadata": {
  "kernelspec": {
   "display_name": "Python 3",
   "language": "python",
   "name": "python3"
  },
  "language_info": {
   "codemirror_mode": {
    "name": "ipython",
    "version": 3
   },
   "file_extension": ".py",
   "mimetype": "text/x-python",
   "name": "python",
   "nbconvert_exporter": "python",
   "pygments_lexer": "ipython3",
   "version": "3.6.7"
  }
 },
 "nbformat": 4,
 "nbformat_minor": 1
}
